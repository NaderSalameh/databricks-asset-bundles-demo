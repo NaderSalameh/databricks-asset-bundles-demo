{
 "cells": [
  {
   "cell_type": "code",
   "execution_count": null,
   "metadata": {},
   "outputs": [],
   "source": [
    "import dlt\n",
    "from pyspark.sql.functions import avg, count, round"
   ]
  },
  {
   "cell_type": "code",
   "execution_count": null,
   "metadata": {},
   "outputs": [],
   "source": [
    "@dlt.table(\n",
    "    comment=\"Gold layer: daily ride performance metrics per station, including average duration and total trips\"\n",
    ")\n",
    "def gold_daily_station_performance():\n",
    "    df = (\n",
    "        dlt.read(\"silver_jc_citibike\").\\\n",
    "                    groupBy(\"trip_start_date\", \"start_station_name\").\\\n",
    "                    agg(\n",
    "                    round(avg(\"trip_duration_mins\"),2).alias(\"avg_trip_duration_mins\"),\n",
    "                    count(\"ride_id\").alias(\"total_trips\")\n",
    "        ))\n",
    "    return df"
   ]
  }
 ],
 "metadata": {
  "kernelspec": {
   "display_name": ".venv_dbc2",
   "language": "python",
   "name": "python3"
  },
  "language_info": {
   "name": "python",
   "version": "3.11.9"
  }
 },
 "nbformat": 4,
 "nbformat_minor": 2
}
