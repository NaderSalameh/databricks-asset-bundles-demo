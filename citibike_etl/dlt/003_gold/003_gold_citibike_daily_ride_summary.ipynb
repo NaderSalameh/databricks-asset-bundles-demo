{
 "cells": [
  {
   "cell_type": "code",
   "execution_count": null,
   "metadata": {},
   "outputs": [],
   "source": [
    "import dlt\n",
    "from pyspark.sql.functions import max, min, avg, count, round"
   ]
  },
  {
   "cell_type": "code",
   "execution_count": null,
   "metadata": {},
   "outputs": [],
   "source": [
    "@dlt.table(\n",
    "    comment=\"Gold layer: daily aggregates of ride durations and trip counts for Citi Bike data\"\n",
    ")\n",
    "def gold_daily_ride_summary():\n",
    "    df = (\n",
    "        dlt.read(\"silver_jc_citibike\").\\\n",
    "                groupBy(\"trip_start_date\").agg(\n",
    "                round(max(\"trip_duration_mins\"),2).alias(\"max_trip_duration_mins\"),\n",
    "                round(min(\"trip_duration_mins\"),2).alias(\"min_trip_duration_mins\"),\n",
    "                round(avg(\"trip_duration_mins\"),2).alias(\"avg_trip_duration_mins\"),\n",
    "                count(\"ride_id\").alias(\"total_trips\")\n",
    "        ))\n",
    "    return df"
   ]
  }
 ],
 "metadata": {
  "kernelspec": {
   "display_name": ".venv_dbc2",
   "language": "python",
   "name": "python3"
  },
  "language_info": {
   "name": "python",
   "version": "3.11.9"
  }
 },
 "nbformat": 4,
 "nbformat_minor": 2
}
